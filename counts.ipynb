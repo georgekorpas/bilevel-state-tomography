{
 "cells": [
  {
   "cell_type": "markdown",
   "id": "ea0261ea-8103-41c5-b95a-f926c51ebf67",
   "metadata": {},
   "source": [
    "# 1. Simulating the counts "
   ]
  },
  {
   "cell_type": "code",
   "execution_count": 19,
   "id": "a9b3d9c9-7622-4e5f-91d5-9ea8c7dd58f6",
   "metadata": {
    "tags": []
   },
   "outputs": [],
   "source": [
    "import numpy as np\n",
    "from qutip import Qobj, basis, sigmax, sigmay, sigmaz\n",
    "from quantum_measurement_functions import *"
   ]
  },
  {
   "cell_type": "code",
   "execution_count": 20,
   "id": "1da6b095-246d-4567-8531-e8a475c16e9f",
   "metadata": {
    "tags": []
   },
   "outputs": [],
   "source": [
    "# Define the density matrix\n",
    "rho = Qobj([[0.056, 1j * 0.229],\n",
    "            [1j * 0.229, 0.944]])\n",
    "\n",
    "# Define the Pauli matrices\n",
    "pauli_x = sigmax()\n",
    "pauli_y = sigmay()\n",
    "pauli_z = sigmaz()\n",
    "\n",
    "# Decide the number of samples\n",
    "num_samples = 10000"
   ]
  },
  {
   "cell_type": "code",
   "execution_count": 21,
   "id": "e7fb171a-433c-48a8-9e10-58e6c331acea",
   "metadata": {
    "tags": []
   },
   "outputs": [],
   "source": [
    "# Measure the counts for 0 and 1 states for each Pauli matrix\n",
    "x_counts = measure_counts(rho, pauli_x, num_samples)\n",
    "y_counts = measure_counts(rho, pauli_y, num_samples)\n",
    "z_counts = measure_counts(rho, pauli_z, num_samples)"
   ]
  },
  {
   "cell_type": "code",
   "execution_count": 22,
   "id": "41fc0650-50e0-46db-8fe9-936b640c6af8",
   "metadata": {
    "tags": []
   },
   "outputs": [
    {
     "name": "stdout",
     "output_type": "stream",
     "text": [
      "X counts:\n",
      " {-1: 4980, 1: 5020}\n",
      "\n",
      "Y counts:\n",
      " {-1: 5008, 1: 4992}\n",
      "\n",
      "Z counts:\n",
      " {-1: 9417, 1: 583}\n"
     ]
    }
   ],
   "source": [
    "print(\"X counts:\\n\", np.squeeze(x_counts))\n",
    "print(\"\\nY counts:\\n\", y_counts)\n",
    "print(\"\\nZ counts:\\n\", z_counts)"
   ]
  },
  {
   "cell_type": "markdown",
   "id": "f25953ac-c203-4632-b32f-2b73fa25771c",
   "metadata": {},
   "source": [
    "_________"
   ]
  },
  {
   "cell_type": "code",
   "execution_count": 23,
   "id": "07578c6d-85f9-4477-8dfb-7605b6f3f774",
   "metadata": {
    "tags": []
   },
   "outputs": [],
   "source": [
    "# Convert the counts to numpy arrays\n",
    "x_counts = np.squeeze(counts_dict_to_array(x_counts))\n",
    "y_counts = np.squeeze(counts_dict_to_array(y_counts))\n",
    "z_counts = np.squeeze(counts_dict_to_array(z_counts))"
   ]
  },
  {
   "cell_type": "code",
   "execution_count": 24,
   "id": "168866c5-1726-43e8-bbaa-2a3727bf0c89",
   "metadata": {
    "tags": []
   },
   "outputs": [
    {
     "name": "stdout",
     "output_type": "stream",
     "text": [
      "The resulting b vector is (-0.004, 0.0016, 0.8834000000000001)\n"
     ]
    }
   ],
   "source": [
    "# Formula (3) implementation\n",
    "bx_vector = 1/num_samples * (x_counts[0]-x_counts[1])\n",
    "by_vector = 1/num_samples * (y_counts[0]-y_counts[1])\n",
    "bz_vector = 1/num_samples * (z_counts[0]-z_counts[1])\n",
    "\n",
    "# Construct Equation (55)\n",
    "b_empirical_vector = (bx_vector, by_vector, bz_vector)\n",
    "\n",
    "print(\"The resulting b vector is\", b_empirical_vector)"
   ]
  }
 ],
 "metadata": {
  "kernelspec": {
   "display_name": "Python 3 (ipykernel)",
   "language": "python",
   "name": "python3"
  },
  "language_info": {
   "codemirror_mode": {
    "name": "ipython",
    "version": 3
   },
   "file_extension": ".py",
   "mimetype": "text/x-python",
   "name": "python",
   "nbconvert_exporter": "python",
   "pygments_lexer": "ipython3",
   "version": "3.10.10"
  }
 },
 "nbformat": 4,
 "nbformat_minor": 5
}
