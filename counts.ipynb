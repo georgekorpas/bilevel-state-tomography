{
 "cells": [
  {
   "cell_type": "code",
   "execution_count": 18,
   "id": "a9b3d9c9-7622-4e5f-91d5-9ea8c7dd58f6",
   "metadata": {
    "tags": []
   },
   "outputs": [],
   "source": [
    "import numpy as np\n",
    "from qutip import Qobj, basis, sigmax, sigmay, sigmaz\n",
    "from quantum_measurement_functions import *"
   ]
  },
  {
   "cell_type": "code",
   "execution_count": 19,
   "id": "1da6b095-246d-4567-8531-e8a475c16e9f",
   "metadata": {
    "tags": []
   },
   "outputs": [],
   "source": [
    "# Define the density matrix\n",
    "rho = Qobj([[0.056, 1j * 0.229],\n",
    "            [1j * 0.229, 0.944]])\n",
    "\n",
    "# Define the Pauli matrices\n",
    "pauli_x = sigmax()\n",
    "pauli_y = sigmay()\n",
    "pauli_z = sigmaz()"
   ]
  },
  {
   "cell_type": "code",
   "execution_count": 154,
   "id": "e7fb171a-433c-48a8-9e10-58e6c331acea",
   "metadata": {
    "tags": []
   },
   "outputs": [],
   "source": [
    "# Define the number of samples\n",
    "num_samples = 10000"
   ]
  },
  {
   "cell_type": "code",
   "execution_count": 155,
   "id": "6cfc8e10-9a9e-4fa9-aea5-b4050e1e0d08",
   "metadata": {
    "tags": []
   },
   "outputs": [],
   "source": [
    "# Function to measure the state in a given basis and return counts for 0 and 1 states\n",
    "def measure_counts(rho, operator, samples):\n",
    "    eigenvalues, eigenvectors = operator.eigenstates()\n",
    "    probabilities = [(eigenvector.dag() * rho * eigenvector)[0, 0] for eigenvector in eigenvectors]\n",
    "    outcomes = np.random.choice(eigenvalues, size=samples, p=np.real(probabilities))\n",
    "    counts = {eigenvalue: np.count_nonzero(outcomes == eigenvalue) for eigenvalue in eigenvalues}\n",
    "    return counts"
   ]
  },
  {
   "cell_type": "code",
   "execution_count": 156,
   "id": "87d79dee-1f58-46a6-912a-0c701cf609bc",
   "metadata": {
    "tags": []
   },
   "outputs": [
    {
     "name": "stdout",
     "output_type": "stream",
     "text": [
      "{-0.9999999999999999: 4980, 0.9999999999999996: 5020}\n"
     ]
    }
   ],
   "source": [
    "# Calling quantum_measurements.py\n",
    "counts = measure_counts(rho, pauli_x, num_samples)\n",
    "print(counts)"
   ]
  },
  {
   "cell_type": "code",
   "execution_count": 157,
   "id": "526698fe-1229-4f32-bdbe-d239a463bc27",
   "metadata": {
    "tags": []
   },
   "outputs": [],
   "source": [
    "# Measure the counts for 0 and 1 states for each Pauli matrix\n",
    "x_counts = measure_counts(rho, pauli_x, num_samples)\n",
    "y_counts = measure_counts(rho, pauli_y, num_samples)\n",
    "z_counts = measure_counts(rho, pauli_z, num_samples)"
   ]
  },
  {
   "cell_type": "code",
   "execution_count": 158,
   "id": "41fc0650-50e0-46db-8fe9-936b640c6af8",
   "metadata": {
    "tags": []
   },
   "outputs": [
    {
     "name": "stdout",
     "output_type": "stream",
     "text": [
      "X counts:\n",
      " {-0.9999999999999999: 4999, 0.9999999999999996: 5001}\n",
      "\n",
      "Y counts:\n",
      " {-0.9999999999999999: 5021, 0.9999999999999996: 4979}\n",
      "\n",
      "Z counts:\n",
      " {-1.0: 9419, 1.0: 581}\n"
     ]
    }
   ],
   "source": [
    "print(\"X counts:\\n\", x_counts)\n",
    "print(\"\\nY counts:\\n\", y_counts)\n",
    "print(\"\\nZ counts:\\n\", z_counts)"
   ]
  },
  {
   "cell_type": "markdown",
   "id": "f25953ac-c203-4632-b32f-2b73fa25771c",
   "metadata": {},
   "source": [
    "_________"
   ]
  },
  {
   "cell_type": "code",
   "execution_count": 160,
   "id": "07578c6d-85f9-4477-8dfb-7605b6f3f774",
   "metadata": {
    "tags": []
   },
   "outputs": [],
   "source": [
    "# Convert the counts to numpy arrays\n",
    "x_counts = np.squeeze(counts_dict_to_array(x_counts))\n",
    "y_counts = np.squeeze(counts_dict_to_array(y_counts))\n",
    "z_counts = np.squeeze(counts_dict_to_array(z_counts))"
   ]
  },
  {
   "cell_type": "code",
   "execution_count": 173,
   "id": "168866c5-1726-43e8-bbaa-2a3727bf0c89",
   "metadata": {
    "tags": []
   },
   "outputs": [
    {
     "name": "stdout",
     "output_type": "stream",
     "text": [
      "The resulting b vector is (-0.0002, 0.004200000000000001, 0.8838)\n"
     ]
    }
   ],
   "source": [
    "# Formula (3) implementation\n",
    "bx_vector = 1/samples * (x_counts[0]-x_counts[1])\n",
    "by_vector = 1/samples * (y_counts[0]-y_counts[1])\n",
    "bz_vector = 1/samples * (z_counts[0]-z_counts[1])\n",
    "\n",
    "# Tuple\n",
    "b_empirical_vector = (bx_vector, by_vector, bz_vector)\n",
    "\n",
    "print(\"The resulting b vector is\", b_empirical_vector)"
   ]
  },
  {
   "cell_type": "code",
   "execution_count": null,
   "id": "05606a61-142a-4e0d-aa77-bbb49b9bb3d2",
   "metadata": {},
   "outputs": [],
   "source": []
  }
 ],
 "metadata": {
  "kernelspec": {
   "display_name": "Python 3 (ipykernel)",
   "language": "python",
   "name": "python3"
  },
  "language_info": {
   "codemirror_mode": {
    "name": "ipython",
    "version": 3
   },
   "file_extension": ".py",
   "mimetype": "text/x-python",
   "name": "python",
   "nbconvert_exporter": "python",
   "pygments_lexer": "ipython3",
   "version": "3.10.10"
  }
 },
 "nbformat": 4,
 "nbformat_minor": 5
}
